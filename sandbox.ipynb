{
 "cells": [
  {
   "cell_type": "code",
   "execution_count": 1,
   "metadata": {
    "collapsed": false,
    "deletable": true,
    "editable": true
   },
   "outputs": [
    {
     "name": "stderr",
     "output_type": "stream",
     "text": [
      "/usr/local/lib/python2.7/dist-packages/pandas/core/computation/__init__.py:18: UserWarning: The installed version of numexpr 2.4.3 is not supported in pandas and will be not be used\n",
      "The minimum supported version is 2.4.6\n",
      "\n",
      "  ver=ver, min_ver=_MIN_NUMEXPR_VERSION), UserWarning)\n"
     ]
    }
   ],
   "source": [
    "#from __future__ import print_function\n",
    "import collections\n",
    "import math\n",
    "import numpy as np\n",
    "import os\n",
    "import random\n",
    "import tensorflow as tf\n",
    "\n",
    "#import seaborn as sns\n",
    "from scipy.sparse import lil_matrix\n",
    "import pickle\n",
    "from tfSom import SOM\n",
    "from textProcessing import *\n",
    "from paint import *\n",
    "from utility import *\n",
    "\n",
    "%matplotlib inline"
   ]
  },
  {
   "cell_type": "code",
   "execution_count": 2,
   "metadata": {
    "collapsed": false,
    "deletable": true,
    "editable": true
   },
   "outputs": [
    {
     "name": "stdout",
     "output_type": "stream",
     "text": [
      "Found and verified text8.zip\n"
     ]
    }
   ],
   "source": [
    "url = 'http://mattmahoney.net/dc/'\n",
    "filename = maybe_download(url, 'text8.zip', 31344016)"
   ]
  },
  {
   "cell_type": "code",
   "execution_count": 3,
   "metadata": {
    "collapsed": false,
    "deletable": true,
    "editable": true
   },
   "outputs": [
    {
     "name": "stdout",
     "output_type": "stream",
     "text": [
      "Data size 17005207\n",
      "253854\n"
     ]
    }
   ],
   "source": [
    "words = read_data(filename)\n",
    "print('Data size %d' % len(words))\n",
    "print(len(set(words)))"
   ]
  },
  {
   "cell_type": "code",
   "execution_count": 4,
   "metadata": {
    "collapsed": false,
    "deletable": true,
    "editable": true
   },
   "outputs": [
    {
     "name": "stdout",
     "output_type": "stream",
     "text": [
      "('Most common words (+UNK)', [['UNK', 2735459], ('the', 1061396), ('of', 593677), ('and', 416629), ('one', 411764)])\n",
      "('Sample data', [0, 3084, 12, 6, 195, 2, 3137, 46, 59, 156])\n"
     ]
    }
   ],
   "source": [
    "vocabulary_size = 5000\n",
    "\n",
    "data, count, dictionary, reverse_dictionary = build_dataset(words, vocabulary_size)\n",
    "print('Most common words (+UNK)', count[:5])\n",
    "print('Sample data', data[:10])\n",
    "del words  # Hint to reduce memory."
   ]
  },
  {
   "cell_type": "code",
   "execution_count": 5,
   "metadata": {
    "collapsed": false
   },
   "outputs": [
    {
     "name": "stdout",
     "output_type": "stream",
     "text": [
      "[0, 3084, 12, 6, 195, 2, 3137, 46, 59, 156, 128, 742, 477, 0, 134, 1, 0, 2, 1, 103, 855, 3, 1, 0, 0, 2, 1, 151, 855, 3583, 1, 195, 11, 191, 59, 5, 6, 0, 215, 7, 1326, 105, 455, 20, 59, 2734, 363, 7, 3676, 1, 709, 2, 372, 27, 41, 37, 54, 541, 98, 12, 6, 1426, 2760, 19, 568, 687, 0, 1, 248, 0, 11, 1053, 28, 1, 321, 249, 0, 2880, 793, 187, 0, 12, 6, 201, 603, 11, 1, 1136, 20, 2623, 26, 0, 3, 280, 32, 4154, 142, 60, 26, 0]\n",
      "[['UNK', 2735459], ('the', 1061396), ('of', 593677), ('and', 416629), ('one', 411764), ('in', 372201), ('a', 325873), ('to', 316376), ('zero', 264975), ('nine', 250430), ('two', 192644), ('is', 183153), ('as', 131815), ('eight', 125285), ('for', 118445), ('s', 116710), ('five', 115789), ('three', 114775), ('was', 112807), ('by', 111831), ('that', 109510), ('four', 108182), ('six', 102145), ('seven', 99683), ('with', 95603), ('on', 91250), ('are', 76527), ('it', 73334), ('from', 72871), ('or', 68945), ('his', 62603), ('an', 61925), ('be', 61281), ('this', 58832), ('which', 54788), ('at', 54576), ('he', 53573), ('also', 44358), ('not', 44033), ('have', 39712), ('were', 39086), ('has', 37866), ('but', 35358), ('other', 32433), ('their', 31523), ('its', 29567), ('first', 28810), ('they', 28553), ('some', 28161), ('had', 28100), ('all', 26229), ('more', 26223), ('most', 25563), ('can', 25519), ('been', 25383), ('such', 24413), ('many', 24096), ('who', 23997), ('new', 23770), ('used', 22737), ('there', 22707), ('after', 21125), ('when', 20623), ('into', 20484), ('american', 20477), ('time', 20412), ('these', 19864), ('only', 19463), ('see', 19206), ('may', 19115), ('than', 18807), ('world', 17949), ('i', 17581), ('b', 17516), ('would', 17377), ('d', 17236), ('no', 16155), ('however', 15861), ('between', 15737), ('about', 15574), ('over', 15122), ('years', 14935), ('states', 14916), ('people', 14696), ('war', 14629), ('during', 14578), ('united', 14494), ('known', 14437), ('if', 14420), ('called', 14151), ('use', 14011), ('th', 13380), ('system', 13296), ('often', 12987), ('state', 12904), ('so', 12722), ('history', 12623), ('will', 12560), ('up', 12445), ('while', 12363)]\n",
      "('limited', 752)\n"
     ]
    }
   ],
   "source": [
    "print ( data[:100] )\n",
    "print ( count[:100] )\n",
    "for word,n in dictionary.items() : \n",
    "    print (word, n)\n",
    "    break"
   ]
  },
  {
   "cell_type": "code",
   "execution_count": 6,
   "metadata": {
    "collapsed": false,
    "deletable": true,
    "editable": true
   },
   "outputs": [
    {
     "name": "stdout",
     "output_type": "stream",
     "text": [
      "5000 17005202\n"
     ]
    }
   ],
   "source": [
    "window_size = 2\n",
    "train_data = build_contexts(window_size, data, dictionary)\n"
   ]
  },
  {
   "cell_type": "code",
   "execution_count": 7,
   "metadata": {
    "collapsed": false
   },
   "outputs": [
    {
     "name": "stdout",
     "output_type": "stream",
     "text": [
      "10306693\n",
      "[(1, 2031, 54, 41), (3762, 2190, 79), (1537, 18, 175), (24, 289, 325), (1841, 2524), (312, 241), (8, 1001, 537), (33, 3, 862, 439), (2057, 5, 142, 3497), (1, 778, 2), (2072, 48, 1462), (26, 3, 4771), (1584, 1385, 3243, 29), (56, 18, 1317, 551), (3, 1050, 51, 842), (1, 106, 1869, 261), (3795, 4, 15), (49, 3, 37, 821), (25, 795, 5), (3, 4691, 1484, 7), (443, 651, 726), (2774, 374, 2270, 357), (9, 13, 14, 758), (440, 41, 1242, 1692), (400, 1, 12, 744), (1, 170, 614), (2872, 2, 4668), (11, 81, 3123), (504, 1957, 3119), (9, 2427, 158, 23), (1328, 1561, 874), (4054, 573, 6), (2932, 37, 103), (57, 74, 10, 1), (3459, 3956, 293, 2685), (1, 351, 37, 41), (1, 2, 407, 105), (40, 19, 1693, 38), (1001, 171, 206, 25), (178, 2, 3446), (98, 20, 229, 2806), (208, 1, 504, 2433), (11, 12, 198), (329, 1011, 4, 5), (24, 1, 266, 192), (80, 1372, 868, 45), (10, 75, 284, 23), (4908, 3725), (812, 548, 790), (2, 51, 4, 1573), (3600, 217, 19, 2484), (26, 4148, 5), (17, 14, 863), (8, 2570, 4, 21), (1368, 229, 29), (2, 3439, 7), (138, 2820, 375), (872, 596, 239), (489, 1611, 60, 6), (3, 135, 37, 1447), (1, 2, 4091, 831), (370, 259, 796, 2747), (2960, 353), (19, 692, 14), (1466, 3, 4083), (25, 210, 34, 1), (1, 2, 750, 6), (24, 441, 422, 599), (2651, 4555, 822, 31), (2009, 3, 190), (56, 1809, 26, 968), (1128, 4, 21, 87), (536, 4930, 3802), (681, 4618), (505, 173), (42, 3, 759), (3281, 1, 135), (2027, 5, 6, 103), (56, 163, 110), (424, 1367, 1895), (3176, 3, 3463, 15), (74, 2365, 741, 47), (56, 32, 51, 7), (1233, 5, 822, 1), (320, 2739, 670), (448, 26, 12, 2053), (601, 4, 966), (321, 634, 542), (136, 14, 1430, 53), (2067, 123, 1523), (1, 339, 35, 987), (4948, 3, 52, 14), (521, 2, 3158), (1684, 28, 102, 727), (2, 3260, 1029), (280, 19, 1700, 599), (20, 779, 1452, 685), (720, 1217, 25, 1), (26, 594, 813), (32, 20, 431)]\n"
     ]
    }
   ],
   "source": [
    "print len(train_data)\n",
    "print train_data[:100]"
   ]
  },
  {
   "cell_type": "code",
   "execution_count": 8,
   "metadata": {
    "collapsed": false,
    "deletable": true,
    "editable": true
   },
   "outputs": [
    {
     "name": "stdout",
     "output_type": "stream",
     "text": [
      "Iteration: 0\n"
     ]
    }
   ],
   "source": [
    "dict_size = len(dictionary)\n",
    "d = 16\n",
    "\n",
    "\n",
    "som = SOM(d, d, dict_size, n_iterations = 1, batch_size=100)\n",
    "som.train(train_data)\n"
   ]
  },
  {
   "cell_type": "code",
   "execution_count": 9,
   "metadata": {
    "collapsed": false
   },
   "outputs": [],
   "source": [
    "car = signature ('car', window_size,data, dictionary,som)\n",
    "audi = signature ('ford', window_size,data, dictionary,som)\n",
    "human = signature ( 'human', window_size,data, dictionary,som)\n",
    "#fruit = signature ('fruit',window_size, data, dictionary,som)\n",
    "#apple = signature ('apple', window_size,data, dictionary,som)"
   ]
  },
  {
   "cell_type": "code",
   "execution_count": 10,
   "metadata": {
    "collapsed": false
   },
   "outputs": [
    {
     "data": {
      "image/png": "[encoded data removed]",
      "text/plain": [
       "<matplotlib.figure.Figure at 0x7f987b76dc90>"
      ]
     },
     "metadata": {},
     "output_type": "display_data"
    },
    {
     "data": {
      "image/png": "[encoded data removed]",
      "text/plain": [
       "<matplotlib.figure.Figure at 0x7f987b76de10>"
      ]
     },
     "metadata": {},
     "output_type": "display_data"
    },
    {
     "data": {
      "image/png": "[encoded data removed]",
      "text/plain": [
       "<matplotlib.figure.Figure at 0x7f9869952150>"
      ]
     },
     "metadata": {},
     "output_type": "display_data"
    }
   ],
   "source": [
    "plot_signature(human)\n",
    "plot_signature(audi)\n",
    "plot_signature(car)"
   ]
  },
  {
   "cell_type": "code",
   "execution_count": 11,
   "metadata": {
    "collapsed": false
   },
   "outputs": [],
   "source": [
    "som.save(\"som.pkl\")\n",
    "\n",
    "som1 = SOM(d, d, dict_size)\n",
    "som1.load('som.pkl')\n"
   ]
  },
  {
   "cell_type": "code",
   "execution_count": null,
   "metadata": {
    "collapsed": true
   },
   "outputs": [],
   "source": []
  }
 ],
 "metadata": {
  "kernelspec": {
   "display_name": "Python 2",
   "language": "python",
   "name": "python2"
  },
  "language_info": {
   "codemirror_mode": {
    "name": "ipython",
    "version": 2
   },
   "file_extension": ".py",
   "mimetype": "text/x-python",
   "name": "python",
   "nbconvert_exporter": "python",
   "pygments_lexer": "ipython2",
   "version": "2.7.12"
  }
 },
 "nbformat": 4,
 "nbformat_minor": 2
}
