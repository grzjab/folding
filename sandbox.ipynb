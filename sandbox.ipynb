{
 "cells": [
  {
   "cell_type": "code",
   "execution_count": 1,
   "metadata": {
    "collapsed": false,
    "deletable": true,
    "editable": true
   },
   "outputs": [
    {
     "name": "stderr",
     "output_type": "stream",
     "text": [
      "/usr/local/lib/python2.7/dist-packages/pandas/core/computation/__init__.py:18: UserWarning: The installed version of numexpr 2.4.3 is not supported in pandas and will be not be used\n",
      "The minimum supported version is 2.4.6\n",
      "\n",
      "  ver=ver, min_ver=_MIN_NUMEXPR_VERSION), UserWarning)\n"
     ]
    }
   ],
   "source": [
    "#from __future__ import print_function\n",
    "import collections\n",
    "import math\n",
    "import numpy as np\n",
    "import os\n",
    "import random\n",
    "import tensorflow as tf\n",
    "\n",
    "#import seaborn as sns\n",
    "from scipy.sparse import lil_matrix\n",
    "import pickle\n",
    "from tfSom import SOM\n",
    "from textProcessing import *\n",
    "from paint import *\n",
    "from utility import *\n",
    "\n",
    "%matplotlib inline"
   ]
  },
  {
   "cell_type": "code",
   "execution_count": 2,
   "metadata": {
    "collapsed": false,
    "deletable": true,
    "editable": true
   },
   "outputs": [
    {
     "name": "stdout",
     "output_type": "stream",
     "text": [
      "Found and verified text8.zip\n"
     ]
    }
   ],
   "source": [
    "url = 'http://mattmahoney.net/dc/'\n",
    "filename = maybe_download('text8.zip', 31344016)"
   ]
  },
  {
   "cell_type": "code",
   "execution_count": 3,
   "metadata": {
    "collapsed": false,
    "deletable": true,
    "editable": true
   },
   "outputs": [
    {
     "name": "stdout",
     "output_type": "stream",
     "text": [
      "Data size 17005207\n",
      "253854\n"
     ]
    }
   ],
   "source": [
    "words = read_data(filename)\n",
    "print('Data size %d' % len(words))\n",
    "print(len(set(words)))"
   ]
  },
  {
   "cell_type": "code",
   "execution_count": 4,
   "metadata": {
    "collapsed": false,
    "deletable": true,
    "editable": true
   },
   "outputs": [
    {
     "name": "stdout",
     "output_type": "stream",
     "text": [
      "('Most common words (+UNK)', [['UNK', 817087], ('the', 1061396), ('of', 593677), ('and', 416629), ('one', 411764)])\n",
      "('Sample data', [5239, 3084, 12, 6, 195, 2, 3137, 46, 59, 156])\n"
     ]
    }
   ],
   "source": [
    "vocabulary_size = 25000\n",
    "\n",
    "data, count, dictionary, reverse_dictionary = build_dataset(words, vocabulary_size)\n",
    "print('Most common words (+UNK)', count[:5])\n",
    "print('Sample data', data[:10])\n",
    "del words  # Hint to reduce memory."
   ]
  },
  {
   "cell_type": "code",
   "execution_count": 5,
   "metadata": {
    "collapsed": false
   },
   "outputs": [
    {
     "name": "stdout",
     "output_type": "stream",
     "text": [
      "[5239, 3084, 12, 6, 195, 2, 3137, 46, 59, 156, 128, 742, 477, 10572, 134, 1, 0, 2, 1, 103, 855, 3, 1, 15068, 0, 2, 1, 151, 855, 3583, 1, 195, 11, 191, 59, 5, 6, 10742, 215, 7, 1326, 105, 455, 20, 59, 2734, 363, 7, 3676, 1, 709, 2, 372, 27, 41, 37, 54, 541, 98, 12, 6, 1426, 2760, 19, 568, 687, 7106, 1, 248, 5239, 11, 1053, 28, 1, 321, 249, 0, 2880, 793, 187, 5239, 12, 6, 201, 603, 11, 1, 1136, 20, 2623, 26, 9015, 3, 280, 32, 4154, 142, 60, 26, 6446]\n",
      "[['UNK', 817087], ('the', 1061396), ('of', 593677), ('and', 416629), ('one', 411764), ('in', 372201), ('a', 325873), ('to', 316376), ('zero', 264975), ('nine', 250430), ('two', 192644), ('is', 183153), ('as', 131815), ('eight', 125285), ('for', 118445), ('s', 116710), ('five', 115789), ('three', 114775), ('was', 112807), ('by', 111831), ('that', 109510), ('four', 108182), ('six', 102145), ('seven', 99683), ('with', 95603), ('on', 91250), ('are', 76527), ('it', 73334), ('from', 72871), ('or', 68945), ('his', 62603), ('an', 61925), ('be', 61281), ('this', 58832), ('which', 54788), ('at', 54576), ('he', 53573), ('also', 44358), ('not', 44033), ('have', 39712), ('were', 39086), ('has', 37866), ('but', 35358), ('other', 32433), ('their', 31523), ('its', 29567), ('first', 28810), ('they', 28553), ('some', 28161), ('had', 28100), ('all', 26229), ('more', 26223), ('most', 25563), ('can', 25519), ('been', 25383), ('such', 24413), ('many', 24096), ('who', 23997), ('new', 23770), ('used', 22737), ('there', 22707), ('after', 21125), ('when', 20623), ('into', 20484), ('american', 20477), ('time', 20412), ('these', 19864), ('only', 19463), ('see', 19206), ('may', 19115), ('than', 18807), ('world', 17949), ('i', 17581), ('b', 17516), ('would', 17377), ('d', 17236), ('no', 16155), ('however', 15861), ('between', 15737), ('about', 15574), ('over', 15122), ('years', 14935), ('states', 14916), ('people', 14696), ('war', 14629), ('during', 14578), ('united', 14494), ('known', 14437), ('if', 14420), ('called', 14151), ('use', 14011), ('th', 13380), ('system', 13296), ('often', 12987), ('state', 12904), ('so', 12722), ('history', 12623), ('will', 12560), ('up', 12445), ('while', 12363)]\n",
      "('homomorphism', 9648)\n"
     ]
    }
   ],
   "source": [
    "print ( data[:100] )\n",
    "print ( count[:100] )\n",
    "for word,n in dictionary.items() : \n",
    "    print (word, n)\n",
    "    break"
   ]
  },
  {
   "cell_type": "code",
   "execution_count": 6,
   "metadata": {
    "collapsed": false,
    "deletable": true,
    "editable": true
   },
   "outputs": [
    {
     "name": "stdout",
     "output_type": "stream",
     "text": [
      "25000 17005202\n"
     ]
    }
   ],
   "source": [
    "window_size = 2\n",
    "train_data = build_contexts(window_size, data, dictionary)\n"
   ]
  },
  {
   "cell_type": "code",
   "execution_count": null,
   "metadata": {
    "collapsed": false
   },
   "outputs": [
    {
     "name": "stdout",
     "output_type": "stream",
     "text": [
      "13702827\n",
      "[(1, 2031, 54, 41), (3762, 2190, 79), (25, 4269, 1), (33, 3, 862, 439), (17, 23402, 11, 5), (13642, 173, 7), (19, 387, 45, 6463), (105, 11, 1459, 325), (26, 3, 4771), (104, 14401, 3, 4540), (5866, 3, 2626, 1126), (1, 1586, 905), (4574, 1, 93, 54), (16, 15, 13, 18983), (8, 10, 6965, 4495), (192, 5745, 2, 4332), (19336, 4048, 75, 1277), (56, 370, 27, 2909), (2774, 374, 2270, 357), (9, 13, 14, 758), (36, 30, 4214), (880, 19580, 4029, 2469), (1, 170, 614), (978, 7532, 318, 6), (185, 10595, 2854, 2625), (57, 74, 10, 1), (1257, 1655, 11597, 1), (1353, 13, 22, 2694), (40, 19, 1693, 38), (1001, 171, 206, 25), (178, 2, 3446), (208, 1, 504, 2433), (24, 18, 12075, 3126), (896, 7208, 1971, 653), (329, 1011, 4, 5), (5824, 19, 220, 219), (24, 1, 266, 192), (73, 2, 5131, 6), (6408, 57, 11, 1), (5244, 5, 7726, 975), (17, 14, 863), (3352, 17, 5628, 591), (489, 1611, 60, 6), (42, 804, 7910, 5494), (3, 135, 37, 1447), (1, 2, 4091, 831), (19041, 37, 20463), (1, 19, 2117, 20689), (1, 2, 750, 6), (2651, 4555, 822, 31), (56, 1809, 26, 968), (2, 5059, 28), (17925, 286, 2095), (3360, 43, 203, 7), (497, 476, 2205, 4), (64, 8720, 1883), (3176, 3, 3463, 15), (56, 32, 51, 7), (1233, 5, 822, 1), (4827, 8758), (448, 26, 12, 2053), (601, 4, 966), (144, 5298, 11, 34), (48, 1196, 644, 54), (1, 339, 35, 987), (4948, 3, 52, 14), (265, 3, 8143), (731, 14093), (41, 2, 5901, 54), (720, 1217, 25, 1), (16688, 465, 9147, 151), (8, 1779, 2020, 15), (3, 4, 2606), (331, 6, 3343), (26, 3, 45, 143), (1, 106, 1869, 261), (21088, 8545, 12), (433, 3, 1708), (3778, 11323, 5908), (2171, 546, 3, 5), (3, 19, 30, 2751), (17, 167, 7340, 7), (2368, 2, 443, 1502), (137, 2, 1339, 42), (336, 112, 356), (1, 2812, 5, 4577), (88, 209, 60, 249), (209, 18, 20, 9678), (2200, 49, 605), (9, 4, 5, 502), (56, 7440, 1594, 1), (872, 6641, 7, 223), (5140, 2405, 558), (48, 1, 4, 975), (2656, 57, 5983, 1), (723, 4, 13, 7), (8824, 1, 11, 390), (1073, 21237, 3031), (6844, 8524, 1614), (25, 5499, 4, 533)]\n"
     ]
    }
   ],
   "source": [
    "print len(train_data)\n",
    "print train_data[:100]"
   ]
  },
  {
   "cell_type": "code",
   "execution_count": null,
   "metadata": {
    "collapsed": false,
    "deletable": true,
    "editable": true
   },
   "outputs": [
    {
     "name": "stdout",
     "output_type": "stream",
     "text": [
      "Iteration: 0\n"
     ]
    }
   ],
   "source": [
    "dict_size = len(dictionary)\n",
    "d = 32\n",
    "\n",
    "\n",
    "som = SOM(d, d, dict_size, n_iterations = 1, batch_size=100)\n",
    "som.train(train_data)\n"
   ]
  },
  {
   "cell_type": "code",
   "execution_count": null,
   "metadata": {
    "collapsed": true
   },
   "outputs": [],
   "source": [
    "#signatures = compute_signatures(window_size)"
   ]
  },
  {
   "cell_type": "code",
   "execution_count": null,
   "metadata": {
    "collapsed": false
   },
   "outputs": [],
   "source": [
    "apple = signature ('apple', window_size,data, dictionary,som)\n",
    "car = signature ('car', window_size,data, dictionary,som)\n",
    "audi = signature ('ford', window_size,data, dictionary,som)\n",
    "human = signature ( 'human', window_size,data, dictionary,som)\n",
    "fruit = signature ('fruit',window_size, data, dictionary,som)\n"
   ]
  },
  {
   "cell_type": "code",
   "execution_count": null,
   "metadata": {
    "collapsed": true
   },
   "outputs": [],
   "source": [
    "plot_signature(human)\n",
    "plot_signature(audi)\n",
    "plot_signature(car)"
   ]
  },
  {
   "cell_type": "code",
   "execution_count": null,
   "metadata": {
    "collapsed": true
   },
   "outputs": [],
   "source": [
    "som.save('som.pkl')\n",
    "\n",
    "som1 = SOM(d, d, dict_size)\n",
    "som1.load('som.pkl')\n"
   ]
  }
 ],
 "metadata": {
  "kernelspec": {
   "display_name": "Python 2",
   "language": "python",
   "name": "python2"
  },
  "language_info": {
   "codemirror_mode": {
    "name": "ipython",
    "version": 2
   },
   "file_extension": ".py",
   "mimetype": "text/x-python",
   "name": "python",
   "nbconvert_exporter": "python",
   "pygments_lexer": "ipython2",
   "version": "2.7.12"
  }
 },
 "nbformat": 4,
 "nbformat_minor": 2
}
